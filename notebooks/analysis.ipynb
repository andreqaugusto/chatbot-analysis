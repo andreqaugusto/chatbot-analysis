{
 "cells": [
  {
   "cell_type": "markdown",
   "id": "65438db4-61c3-45ab-b968-67cacfd77ebb",
   "metadata": {},
   "source": [
    "# Data Analysis"
   ]
  },
  {
   "cell_type": "markdown",
   "id": "75c9d0d9-c75d-4b7b-b0f0-27613cba501f",
   "metadata": {},
   "source": [
    "With the data preparation done, we can now start to answer the questions."
   ]
  },
  {
   "cell_type": "markdown",
   "id": "e14d5e3a-e741-4d3e-9c86-1473488dab81",
   "metadata": {},
   "source": [
    "## Initialization & Loading"
   ]
  },
  {
   "cell_type": "markdown",
   "id": "f503fbd5-03eb-44e7-a2cf-c185b9a1a8ea",
   "metadata": {},
   "source": [
    "Once again, let's connect to the Spark master container and load the data:"
   ]
  },
  {
   "cell_type": "code",
   "execution_count": 1,
   "id": "119a9fac-c7b8-4e5c-9335-d266e261fa9e",
   "metadata": {},
   "outputs": [],
   "source": [
    "from pyspark.sql import SparkSession\n",
    "import pyspark.sql.types as T\n",
    "import pyspark.sql.functions as F"
   ]
  },
  {
   "cell_type": "code",
   "execution_count": 2,
   "id": "643fb298-c3e9-4f22-9ea6-fafcb5664040",
   "metadata": {},
   "outputs": [
    {
     "name": "stderr",
     "output_type": "stream",
     "text": [
      "WARNING: An illegal reflective access operation has occurred\n",
      "WARNING: Illegal reflective access by org.apache.spark.unsafe.Platform (file:/usr/local/lib/python3.9/dist-packages/pyspark/jars/spark-unsafe_2.12-3.2.2.jar) to constructor java.nio.DirectByteBuffer(long,int)\n",
      "WARNING: Please consider reporting this to the maintainers of org.apache.spark.unsafe.Platform\n",
      "WARNING: Use --illegal-access=warn to enable warnings of further illegal reflective access operations\n",
      "WARNING: All illegal access operations will be denied in a future release\n",
      "Using Spark's default log4j profile: org/apache/spark/log4j-defaults.properties\n",
      "Setting default log level to \"WARN\".\n",
      "To adjust logging level use sc.setLogLevel(newLevel). For SparkR, use setLogLevel(newLevel).\n",
      "22/09/11 20:26:23 WARN NativeCodeLoader: Unable to load native-hadoop library for your platform... using builtin-java classes where applicable\n"
     ]
    }
   ],
   "source": [
    "spark = SparkSession.builder.appName('analysis').master('spark://spark:7077') \\\n",
    "    .getOrCreate();"
   ]
  },
  {
   "cell_type": "code",
   "execution_count": 3,
   "id": "e311e90e-72f4-4ea8-8344-3c1af38b4b37",
   "metadata": {},
   "outputs": [
    {
     "name": "stderr",
     "output_type": "stream",
     "text": [
      "                                                                                \r"
     ]
    }
   ],
   "source": [
    "data = spark.read.parquet('/app/files/treated_data')\n",
    "data.createOrReplaceTempView('data')"
   ]
  },
  {
   "cell_type": "markdown",
   "id": "93ced9d9-b7d1-43a9-9ea4-4bb147340304",
   "metadata": {},
   "source": [
    "As a sanity check, let's see if the data was loaded correctly:"
   ]
  },
  {
   "cell_type": "code",
   "execution_count": 4,
   "id": "5afc818e-bb93-40a7-90e6-bad6324cca6c",
   "metadata": {},
   "outputs": [
    {
     "name": "stdout",
     "output_type": "stream",
     "text": [
      "+----------+--------------------+--------------------+-----------------+--------------------+---+-------------+-----+\n",
      "|      date|              userId|      conversationId|          channel|   favourite_pokemon|age|         city|botId|\n",
      "+----------+--------------------+--------------------+-----------------+--------------------+---+-------------+-----+\n",
      "|2021-03-12|0001a55b006e0bada...|e40467df-6f1f-4c4...|              sms|[fearow, florges,...| 38| campo grande| 1567|\n",
      "|2021-04-19|00037981db6fa4f24...|31fea68a-a79d-445...|        instagram|           [ninjask]| 23|     brasilia| 1567|\n",
      "|2021-04-15|0004013912834f551...|b5d4e68c-177d-4fe...|              sms|[carnivine, hippo...| 28|       palmas| 1567|\n",
      "|2021-04-02|00052c60aafed1bee...|a4387219-be30-412...|         whatsapp|         [electrode]| 55|       suzano| 1567|\n",
      "|2021-03-10|0007a057c85be431b...|7957d94d-1639-451...|facebook messeger|[barboach, minun,...| 39|    boa vista| 1567|\n",
      "|2021-04-28|0007ebdf52111b7f1...|de116548-c058-48c...|facebook messeger|       [minior-blue]| 30|foz do iguacu| 1567|\n",
      "|2021-04-30|000b29832b77f1815...|2f2245f8-4505-42e...|         telegram|   [keldeo-resolute]| 55|       franca| 1567|\n",
      "|2021-03-10|000f08196eb55c0ad...|f1d8d0b0-3caf-4ac...|        instagram|[rapidash-galar, ...| 49|        serra| 1567|\n",
      "|2021-04-09|000fc4e4810212bef...|56e00a03-f955-428...|         telegram|         [poliwhirl]| 25|        natal| 1567|\n",
      "|2021-03-01|0010bd3852ab651cb...|9a381d74-c452-442...|         telegram| [minior-red-meteor]| 18|  sao goncalo| 1567|\n",
      "+----------+--------------------+--------------------+-----------------+--------------------+---+-------------+-----+\n",
      "only showing top 10 rows\n",
      "\n"
     ]
    },
    {
     "name": "stderr",
     "output_type": "stream",
     "text": [
      "                                                                                \r"
     ]
    }
   ],
   "source": [
    "data.show(10)"
   ]
  },
  {
   "cell_type": "markdown",
   "id": "0920e279-6c42-4be2-bb59-2545a5721329",
   "metadata": {},
   "source": [
    "## Questions"
   ]
  },
  {
   "cell_type": "markdown",
   "id": "18ed63c8-7322-45aa-95ff-59221d3b01db",
   "metadata": {
    "tags": []
   },
   "source": [
    "### 1. What is the number of unique conversations per channel?"
   ]
  },
  {
   "cell_type": "markdown",
   "id": "e909f494-22bc-4080-ad5e-097f713b9389",
   "metadata": {},
   "source": [
    "The answer for this question is given by a straightforward query, as we can see below:"
   ]
  },
  {
   "cell_type": "code",
   "execution_count": 5,
   "id": "0b084a0b-931d-4515-82b2-ecb84ccded9f",
   "metadata": {},
   "outputs": [
    {
     "name": "stdout",
     "output_type": "stream",
     "text": [
      "+-----------------+--------------------+\n",
      "|          channel|unique_conversations|\n",
      "+-----------------+--------------------+\n",
      "|         telegram|               10186|\n",
      "|         whatsapp|               10043|\n",
      "|        instagram|               10038|\n",
      "|facebook messeger|                9954|\n",
      "|              sms|                9775|\n",
      "+-----------------+--------------------+\n",
      "\n"
     ]
    }
   ],
   "source": [
    "spark.sql('SELECT channel, COUNT(DISTINCT conversationId) AS unique_conversations FROM data GROUP BY 1 ORDER BY 2 DESC').show()"
   ]
  },
  {
   "cell_type": "markdown",
   "id": "4ef9cfe8-9eae-4960-a98c-fe78ee2d16cf",
   "metadata": {},
   "source": [
    "We note that the numbers might be *slightly* off due to the 4 interactions that were (deliberately) dropped when we cleaned the data. Also, even though we did a `COUNT DISTINCT` in our query, this is unnecessary (for this particular dataset),  since our dataset already has a unique conversationId across each row."
   ]
  },
  {
   "cell_type": "markdown",
   "id": "d151ef36-263a-4e4e-a5ca-48dc2e1345fa",
   "metadata": {},
   "source": [
    "### 2. Which was the day with the most conversations?"
   ]
  },
  {
   "cell_type": "markdown",
   "id": "909d632c-ce27-4ff8-af2e-4c39a62a8168",
   "metadata": {},
   "source": [
    "We only need to change the `channel` column to `date` in the previous query to obtain the desired answer:"
   ]
  },
  {
   "cell_type": "code",
   "execution_count": 6,
   "id": "de7524e8-1369-4c7f-a33f-cdba62c1181e",
   "metadata": {},
   "outputs": [
    {
     "name": "stdout",
     "output_type": "stream",
     "text": [
      "+----------+-------------+\n",
      "|      date|conversations|\n",
      "+----------+-------------+\n",
      "|2021-04-26|          869|\n",
      "|2021-03-03|          861|\n",
      "|2021-03-08|          859|\n",
      "|2021-03-27|          856|\n",
      "|2021-04-15|          852|\n",
      "|2021-03-01|          852|\n",
      "|2021-04-21|          848|\n",
      "|2021-04-09|          847|\n",
      "|2021-04-18|          846|\n",
      "|2021-04-27|          845|\n",
      "+----------+-------------+\n",
      "only showing top 10 rows\n",
      "\n"
     ]
    }
   ],
   "source": [
    "conversations_per_day = spark.sql('SELECT date, COUNT(conversationId) AS conversations FROM data GROUP BY 1 ORDER BY 2 DESC')\n",
    "conversations_per_day.show(10)\n",
    "conversations_per_day.coalesce(1).write.mode('overwrite').csv('/app/files/conversations_per_day', header=True)"
   ]
  },
  {
   "cell_type": "markdown",
   "id": "ce262f09-dadc-40cf-af8c-e05520c4b9f2",
   "metadata": {},
   "source": [
    "### 3. Which city has the most unique users?"
   ]
  },
  {
   "cell_type": "markdown",
   "id": "0d2a78ca-c0ae-4e82-9a45-8b0e78be09e1",
   "metadata": {},
   "source": [
    "Once again, the query is straightforward:"
   ]
  },
  {
   "cell_type": "code",
   "execution_count": 7,
   "id": "5c5043c3-38e8-4df9-b956-d677aabfb426",
   "metadata": {},
   "outputs": [
    {
     "name": "stdout",
     "output_type": "stream",
     "text": [
      "+------------+------------+\n",
      "|        city|unique_users|\n",
      "+------------+------------+\n",
      "|    joinvile|         524|\n",
      "|  piracicaba|         523|\n",
      "|ponta grossa|         518|\n",
      "|      iguacu|         505|\n",
      "|    paulista|         504|\n",
      "|      maceio|         502|\n",
      "|     barueri|         502|\n",
      "|      olinda|         499|\n",
      "|   cariacica|         497|\n",
      "|     guaruja|         496|\n",
      "+------------+------------+\n",
      "only showing top 10 rows\n",
      "\n"
     ]
    }
   ],
   "source": [
    "unique_users_per_city = spark.sql('SELECT city, COUNT(DISTINCT userId) AS unique_users FROM data GROUP BY 1 ORDER BY 2 DESC')\n",
    "unique_users_per_city.show(10)\n",
    "unique_users_per_city.coalesce(1).write.mode('overwrite').csv('/app/files/unique_users_per_city', header=True)"
   ]
  },
  {
   "cell_type": "markdown",
   "id": "d012a381-e7b4-4241-bcb8-99c279568ce7",
   "metadata": {},
   "source": [
    "Even though we can see the city with the most unique users, we are going to assign the top result to a variable (this makes the code reusable)."
   ]
  },
  {
   "cell_type": "code",
   "execution_count": 8,
   "id": "9623c984-19f3-4d5d-bd2f-01f686242576",
   "metadata": {},
   "outputs": [],
   "source": [
    "most_unique_users_city = spark.sql('SELECT city, COUNT(DISTINCT userId) AS unique_users FROM data GROUP BY 1 ORDER BY 2 DESC LIMIT 1')\n",
    "city = most_unique_users_city.collect()[0]['city']"
   ]
  },
  {
   "cell_type": "markdown",
   "id": "29f76097-47f4-48d9-95de-7adf2184a9a0",
   "metadata": {},
   "source": [
    "The last three questions are about Pokémon. Because we made the decision to turn the list of Pokémon into a single-column array, it is difficult to analyze the data as it is. \n",
    "\n",
    "However, we can [explode](https://spark.apache.org/docs/3.1.3/api/python/reference/api/pyspark.sql.functions.explode.html) the data to make it easier to analyze."
   ]
  },
  {
   "cell_type": "code",
   "execution_count": 9,
   "id": "fbb38c6c-4af4-4532-8888-31a8bed81fad",
   "metadata": {},
   "outputs": [
    {
     "name": "stdout",
     "output_type": "stream",
     "text": [
      "+--------------------+-----------------+-------------+---+\n",
      "|              userId|          pokemon|         city|age|\n",
      "+--------------------+-----------------+-------------+---+\n",
      "|0001a55b006e0bada...|           fearow| campo grande| 38|\n",
      "|0001a55b006e0bada...|          florges| campo grande| 38|\n",
      "|0001a55b006e0bada...|        sudowoodo| campo grande| 38|\n",
      "|00037981db6fa4f24...|          ninjask|     brasilia| 23|\n",
      "|0004013912834f551...|        carnivine|       palmas| 28|\n",
      "|0004013912834f551...|       hippopotas|       palmas| 28|\n",
      "|00052c60aafed1bee...|        electrode|       suzano| 55|\n",
      "|0007a057c85be431b...|         barboach|    boa vista| 39|\n",
      "|0007a057c85be431b...|            minun|    boa vista| 39|\n",
      "|0007a057c85be431b...|   necrozma-ultra|    boa vista| 39|\n",
      "|0007ebdf52111b7f1...|      minior-blue|foz do iguacu| 30|\n",
      "|000b29832b77f1815...|  keldeo-resolute|       franca| 55|\n",
      "|000f08196eb55c0ad...|   rapidash-galar|        serra| 49|\n",
      "|000f08196eb55c0ad...|         shedinja|        serra| 49|\n",
      "|000f08196eb55c0ad...|         sharpedo|        serra| 49|\n",
      "|000fc4e4810212bef...|        poliwhirl|        natal| 25|\n",
      "|0010bd3852ab651cb...|minior-red-meteor|  sao goncalo| 18|\n",
      "|001517711040d5584...|    venusaur-mega|     sao luis| 19|\n",
      "|0015f8c7040d4c06d...|          swoobat|      uberaba| 45|\n",
      "|0015f8c7040d4c06d...|         cloyster|      uberaba| 45|\n",
      "+--------------------+-----------------+-------------+---+\n",
      "only showing top 20 rows\n",
      "\n"
     ]
    }
   ],
   "source": [
    "pokemon = data.select('userId', F.explode('favourite_pokemon').alias('pokemon'), 'city', 'age')\n",
    "pokemon.createOrReplaceTempView('pokemon')\n",
    "pokemon.show(20)"
   ]
  },
  {
   "cell_type": "markdown",
   "id": "c025e1a6-9ddf-40d8-9058-be67066c4c35",
   "metadata": {},
   "source": [
    "Now the `pokemon` column has a single value but we have repeating `userId`s. This is by design: each row is a **individual** choice of favourite Pokémon for said user. This means that if some user *A* has listed 3 Pokémons as favourites (e.g. *X*, *Y*, *Z*), then we will have three different rows (`A-X`, `A-Y` and `A-Z`)."
   ]
  },
  {
   "cell_type": "markdown",
   "id": "d9c8e856-11ad-4dee-bb06-d629749c790f",
   "metadata": {},
   "source": [
    "### 4. What are the top 5 Pokémon in the age range of 20-30 years?"
   ]
  },
  {
   "cell_type": "markdown",
   "id": "ab544a46-f642-4b30-aa81-71f4446f4f02",
   "metadata": {},
   "source": [
    "With the above dataset in hand, the answer for this question is given by the following query:"
   ]
  },
  {
   "cell_type": "code",
   "execution_count": 10,
   "id": "6c888684-5d68-4aed-8325-2fc9ab08059d",
   "metadata": {},
   "outputs": [
    {
     "name": "stdout",
     "output_type": "stream",
     "text": [
      "+-------------+---------+\n",
      "|      pokemon|favourite|\n",
      "+-------------+---------+\n",
      "|      dewgong|       38|\n",
      "|venusaur-mega|       38|\n",
      "|       grotle|       37|\n",
      "|    electrode|       37|\n",
      "|      moltres|       36|\n",
      "| yamask-galar|       36|\n",
      "|    porygon-z|       35|\n",
      "|      florges|       35|\n",
      "|       starly|       35|\n",
      "|      tympole|       35|\n",
      "+-------------+---------+\n",
      "only showing top 10 rows\n",
      "\n"
     ]
    }
   ],
   "source": [
    "spark.sql('SELECT pokemon, COUNT(*) as favourite FROM pokemon WHERE age BETWEEN 20 AND 30 GROUP BY 1 ORDER BY 2 DESC').show(10)"
   ]
  },
  {
   "cell_type": "markdown",
   "id": "db4b8857-6671-4c45-97d1-bc8006bcb3bf",
   "metadata": {},
   "source": [
    "### 5. List all the favourite Pokémon in the city with the most unique users."
   ]
  },
  {
   "cell_type": "markdown",
   "id": "76542c13-0c76-4533-86db-53a364121b75",
   "metadata": {},
   "source": [
    "The following query returns the top 10 Pokémon for the city with the most unique users."
   ]
  },
  {
   "cell_type": "code",
   "execution_count": 11,
   "id": "884e465b-e6f6-4c1c-9365-6012c3858e8f",
   "metadata": {},
   "outputs": [
    {
     "name": "stdout",
     "output_type": "stream",
     "text": [
      "+--------------------+---------+\n",
      "|             pokemon|favourtie|\n",
      "+--------------------+---------+\n",
      "|             blipbug|        5|\n",
      "|               entei|        5|\n",
      "|           volcarona|        4|\n",
      "|           rillaboom|        4|\n",
      "|              gligar|        4|\n",
      "|           obstagoon|        4|\n",
      "|    charizard-mega-x|        4|\n",
      "|          galvantula|        4|\n",
      "|             ninjask|        4|\n",
      "|raticate-totem-alola|        4|\n",
      "+--------------------+---------+\n",
      "only showing top 10 rows\n",
      "\n"
     ]
    }
   ],
   "source": [
    "spark.sql(f\"SELECT pokemon, COUNT(*) as favourtie FROM pokemon WHERE city = '{city}' GROUP BY 1 ORDER BY 2 DESC\").show(10) "
   ]
  },
  {
   "cell_type": "markdown",
   "id": "ee1d2b01-ebb0-4561-8961-19448ed772f7",
   "metadata": {},
   "source": [
    "Since we have over 500 Pokémon listed for said city (as seen below), we will save all the records in a text file."
   ]
  },
  {
   "cell_type": "code",
   "execution_count": 12,
   "id": "0480b906-5dba-4484-85a6-17269a99f52e",
   "metadata": {},
   "outputs": [
    {
     "name": "stdout",
     "output_type": "stream",
     "text": [
      "+-----------------------+\n",
      "|count(DISTINCT pokemon)|\n",
      "+-----------------------+\n",
      "|                    589|\n",
      "+-----------------------+\n",
      "\n"
     ]
    }
   ],
   "source": [
    "spark.sql(f\"SELECT COUNT (DISTINCT pokemon) FROM pokemon WHERE city = '{city}'\").show() \n",
    "city_pokemon = spark.sql(f\"SELECT DISTINCT pokemon FROM pokemon WHERE city = '{city}' ORDER BY 1 ASC\")\n",
    "city_pokemon.coalesce(1).write.mode('overwrite').text('/app/files/city_with_most_unique_users_pokemon')"
   ]
  },
  {
   "cell_type": "markdown",
   "id": "3f81b969-468b-4d93-b06b-3299b648714a",
   "metadata": {},
   "source": [
    "### 6. Considering only the city of São Paulo, list all the favourite Pokémon by age group and the number of times it appear (in the age group). Consider each age group as a group of 10 years (e.g. 10-19, 20-29, 30-39, etc)."
   ]
  },
  {
   "cell_type": "markdown",
   "id": "f200f348-82b0-486c-86bc-9dad49078558",
   "metadata": {},
   "source": [
    "To create the age groups, we could use SQL. However, it is easier to use (again) Spark UDFs."
   ]
  },
  {
   "cell_type": "code",
   "execution_count": 13,
   "id": "0ea7aaea-1805-4d53-a8cb-b6bd8983b155",
   "metadata": {},
   "outputs": [],
   "source": [
    "age_groups = {\n",
    "    (0,9): 'under 9',\n",
    "    (10,19): '10-19',\n",
    "    (20,29): '20-29',\n",
    "    (30,39): '30-39',\n",
    "    (40,49): '40-49',\n",
    "    (50,59): '50-59',\n",
    "    (60,69): '60-69',\n",
    "    (70,79): '70-79',\n",
    "    (80,89): '80-89',\n",
    "    (90,99): '90-99',\n",
    "    (100,109) : '100-109'   \n",
    "}"
   ]
  },
  {
   "cell_type": "code",
   "execution_count": 14,
   "id": "736fc88b-1c27-484a-b6d0-7a403f55a51b",
   "metadata": {},
   "outputs": [],
   "source": [
    "@F.udf\n",
    "def age_group(age):\n",
    "    for rng in age_groups:\n",
    "        if age >= rng[0] and age <= rng[1]:\n",
    "            return age_groups[rng]"
   ]
  },
  {
   "cell_type": "code",
   "execution_count": 15,
   "id": "f7164a1a-3ef0-4f38-9090-06b63ee48451",
   "metadata": {},
   "outputs": [
    {
     "name": "stdout",
     "output_type": "stream",
     "text": [
      "+-----------------+---+---------+\n",
      "|          pokemon|age|age_group|\n",
      "+-----------------+---+---------+\n",
      "|        terrakion| 51|    50-59|\n",
      "|      mawile-mega| 51|    50-59|\n",
      "|         barboach| 51|    50-59|\n",
      "|     altaria-mega| 34|    30-39|\n",
      "|pikachu-alola-cap| 30|    30-39|\n",
      "|         dewpider| 46|    40-49|\n",
      "|        charizard| 46|    40-49|\n",
      "|  keldeo-resolute| 46|    40-49|\n",
      "|          dugtrio| 24|    20-29|\n",
      "|           baltoy| 41|    40-49|\n",
      "|       fletchling| 41|    40-49|\n",
      "|    minior-yellow| 52|    50-59|\n",
      "|       crabrawler| 52|    50-59|\n",
      "|           machop| 52|    50-59|\n",
      "|       aromatisse| 29|    20-29|\n",
      "|              mew| 52|    50-59|\n",
      "|       jigglypuff| 52|    50-59|\n",
      "|           kyurem| 52|    50-59|\n",
      "|           lairon| 32|    30-39|\n",
      "|             abra| 32|    30-39|\n",
      "+-----------------+---+---------+\n",
      "only showing top 20 rows\n",
      "\n"
     ]
    }
   ],
   "source": [
    "sao_paulo_pokemon = pokemon.select('pokemon', 'age', age_group('age').alias('age_group')).where(\"city = 'sao paulo'\")\n",
    "sao_paulo_pokemon.createOrReplaceTempView('sao_paulo_pokemon')\n",
    "sao_paulo_pokemon.show()"
   ]
  },
  {
   "cell_type": "markdown",
   "id": "050445d6-ed73-4a26-a053-c351d746d582",
   "metadata": {},
   "source": [
    "With the age groups created, we can answer the question asked:"
   ]
  },
  {
   "cell_type": "code",
   "execution_count": 16,
   "id": "78e967e5-8ea4-4334-8880-5ab6541ed6da",
   "metadata": {},
   "outputs": [
    {
     "name": "stdout",
     "output_type": "stream",
     "text": [
      "+---------+------------------+---------+\n",
      "|age_group|           pokemon|favourite|\n",
      "+---------+------------------+---------+\n",
      "|    50-59|           poliwag|        2|\n",
      "|    50-59|           xerneas|        2|\n",
      "|    50-59|           metapod|        2|\n",
      "|    50-59|        crabrawler|        2|\n",
      "|    50-59|            mudkip|        2|\n",
      "|    50-59|          rolycoly|        1|\n",
      "|    50-59|minior-blue-meteor|        1|\n",
      "|    50-59|          sunflora|        1|\n",
      "|    50-59|             gible|        1|\n",
      "|    50-59|          blaziken|        1|\n",
      "+---------+------------------+---------+\n",
      "only showing top 10 rows\n",
      "\n"
     ]
    }
   ],
   "source": [
    "sao_paulo_pokemon_age_group = spark.sql('SELECT age_group, pokemon, COUNT(*) AS favourite FROM sao_paulo_pokemon GROUP BY 1,2 ORDER BY 1 DESC, 3 DESC')\n",
    "sao_paulo_pokemon_age_group.show(10)\n",
    "sao_paulo_pokemon_age_group.coalesce(1).write.mode('overwrite').csv('/app/files/sao_paulo_pokemon_age_group', header=True)"
   ]
  },
  {
   "cell_type": "markdown",
   "id": "1afd10c3-6f1a-44ec-a523-9c3169c9111d",
   "metadata": {},
   "source": [
    "Since it is not clear how we must present the data, we will show here only the Pokémons that showed more than once:"
   ]
  },
  {
   "cell_type": "code",
   "execution_count": 17,
   "id": "c7b03fcc-fb0a-4b44-bacf-0a82b1288cd7",
   "metadata": {},
   "outputs": [
    {
     "name": "stdout",
     "output_type": "stream",
     "text": [
      "+---------+--------------------+---------+\n",
      "|age_group|             pokemon|favourite|\n",
      "+---------+--------------------+---------+\n",
      "|    50-59|             poliwag|        2|\n",
      "|    50-59|             xerneas|        2|\n",
      "|    50-59|             metapod|        2|\n",
      "|    50-59|          crabrawler|        2|\n",
      "|    50-59|              mudkip|        2|\n",
      "|    40-49|              mothim|        3|\n",
      "|    40-49|            ludicolo|        2|\n",
      "|    40-49|               burmy|        2|\n",
      "|    40-49|             linoone|        2|\n",
      "|    40-49|            shellder|        2|\n",
      "|    40-49|           gardevoir|        2|\n",
      "|    40-49|            dhelmise|        2|\n",
      "|    40-49|              vulpix|        2|\n",
      "|    40-49|             hatenna|        2|\n",
      "|    40-49|       blaziken-mega|        2|\n",
      "|    30-39|           bounsweet|        3|\n",
      "|    30-39|            dragalge|        2|\n",
      "|    30-39|          aromatisse|        2|\n",
      "|    30-39|            empoleon|        2|\n",
      "|    30-39|              combee|        2|\n",
      "|    30-39|            cutiefly|        2|\n",
      "|    30-39|              spheal|        2|\n",
      "|    30-39|            venipede|        2|\n",
      "|    30-39|           exeggcute|        2|\n",
      "|    30-39|             kommo-o|        2|\n",
      "|    30-39|            tirtouga|        2|\n",
      "|    30-39|            greedent|        2|\n",
      "|    30-39|         gengar-mega|        2|\n",
      "|    30-39|             milotic|        2|\n",
      "|    30-39|      deoxys-defense|        2|\n",
      "|    30-39|greninja-battle-bond|        2|\n",
      "|    20-29|      wormadam-sandy|        2|\n",
      "|    20-29|       deoxys-attack|        2|\n",
      "|    20-29|           cyndaquil|        2|\n",
      "|    20-29|            virizion|        2|\n",
      "|    20-29|           obstagoon|        2|\n",
      "|    20-29|           palossand|        2|\n",
      "|    20-29|        kyurem-white|        2|\n",
      "|    20-29|                aron|        2|\n",
      "|    20-29|            rookidee|        2|\n",
      "|    20-29|              archen|        2|\n",
      "|    20-29|          incineroar|        2|\n",
      "|    20-29|            deerling|        2|\n",
      "+---------+--------------------+---------+\n",
      "\n"
     ]
    }
   ],
   "source": [
    "spark.sql('SELECT age_group, pokemon, COUNT(*) AS favourite FROM sao_paulo_pokemon GROUP BY 1,2 HAVING favourite > 1 ORDER BY 1 DESC, 3 DESC').show(100)"
   ]
  },
  {
   "cell_type": "markdown",
   "id": "c6968f82-b281-4dc0-96c1-72ce9d938194",
   "metadata": {},
   "source": [
    "We now stop our program:"
   ]
  },
  {
   "cell_type": "code",
   "execution_count": null,
   "id": "bfb5d4e8-c46d-44c4-bfca-6b9273e8e17f",
   "metadata": {},
   "outputs": [],
   "source": [
    "spark.stop()"
   ]
  }
 ],
 "metadata": {
  "kernelspec": {
   "display_name": "Python 3 (ipykernel)",
   "language": "python",
   "name": "python3"
  },
  "language_info": {
   "codemirror_mode": {
    "name": "ipython",
    "version": 3
   },
   "file_extension": ".py",
   "mimetype": "text/x-python",
   "name": "python",
   "nbconvert_exporter": "python",
   "pygments_lexer": "ipython3",
   "version": "3.9.2"
  }
 },
 "nbformat": 4,
 "nbformat_minor": 5
}
